{
 "cells": [
  {
   "cell_type": "markdown",
   "metadata": {},
   "source": [
    "### About"
   ]
  },
  {
   "cell_type": "markdown",
   "metadata": {},
   "source": [
    "**NOTE: This notebook is a continuation of my previous notebook which contained EDA.**   \n",
    "\n",
    "You can refer the following links:  \n",
    "- Part-1 EDA, feature engineering, and feature selection: https://www.kaggle.com/code/ayushsharma0812/part-1-eda-feature-engg-and-feature-selection \n",
    "- End-to-End implementation with deployment on AWS: https://github.com/Sharma-Ayush/Credit-Card-Fraud-Detection.git"
   ]
  },
  {
   "cell_type": "markdown",
   "metadata": {},
   "source": [
    "### Objective of this notebook"
   ]
  },
  {
   "cell_type": "markdown",
   "metadata": {},
   "source": [
    "The objective for this notebook is:  \n",
    "- Feature Engineering.  \n",
    "- Handling Imbalance.  \n",
    "- Effect of feature engineering, imbalance handling techniques, and feature selection on model performance.  \n",
    "- Pipelines for end-to-end deployment.  \n",
    "- **How the performance of decision tree improved by 24.45%?**. \n",
    "- Feature importance, precision-recall curve and tree graphs.  \n",
    "- Cross-validation and hyper parameter tuning of classification models.  \n",
    "- Testing on test set.  "
   ]
  },
  {
   "cell_type": "markdown",
   "metadata": {},
   "source": [
    "<u>PS:</u>  \n",
    "- Feel free to contact me if you have any doubts or feedback through the comment section or my socials.\n",
    "- Please upvote the notebook if you like it, as it would motivate me to develop more projects like these."
   ]
  },
  {
   "cell_type": "markdown",
   "metadata": {},
   "source": [
    "### My Socials"
   ]
  },
  {
   "cell_type": "markdown",
   "metadata": {},
   "source": [
    "Follow me on these platforms, for more such content:  \n",
    "\n",
    "LinkedIn: https://www.linkedin.com/in/ayush-sharma-660831125/  \n",
    "Github: https://github.com/Sharma-Ayush  \n",
    "Kaggle: https://www.kaggle.com/ayushsharma0812"
   ]
  },
  {
   "cell_type": "markdown",
   "metadata": {},
   "source": [
    "### Import Required Libraries"
   ]
  },
  {
   "cell_type": "code",
   "execution_count": 95,
   "metadata": {},
   "outputs": [],
   "source": [
    "# Data Manipulation\n",
    "import numpy as np\n",
    "import pandas as pd\n",
    "\n",
    "# Data Visualization\n",
    "import seaborn as sns\n",
    "import matplotlib.pyplot as plt\n",
    "\n",
    "# Machine Learning\n",
    "from imblearn.over_sampling import ADASYN, SMOTE\n",
    "\n",
    "from sklearn.preprocessing import StandardScaler, FunctionTransformer\n",
    "from sklearn.compose import ColumnTransformer\n",
    "from sklearn.decomposition import PCA\n",
    "from imblearn.pipeline import Pipeline\n",
    "\n",
    "from sklearn.model_selection import RandomizedSearchCV, GridSearchCV\n",
    "\n",
    "from sklearn.linear_model import LogisticRegression\n",
    "from sklearn.tree import DecisionTreeClassifier\n",
    "from xgboost import XGBClassifier\n",
    "\n",
    "from sklearn.metrics import auc, precision_recall_curve\n",
    "from sklearn.metrics._scorer import make_scorer\n",
    "\n",
    "from sklearn import tree\n",
    "from graphviz import Source\n",
    "from IPython.display import Image, display\n",
    "import pydotplus\n",
    "\n",
    "# extra modules\n",
    "from warnings import filterwarnings\n",
    "filterwarnings(\"ignore\")\n"
   ]
  },
  {
   "cell_type": "markdown",
   "metadata": {},
   "source": [
    "### Custom classes & functions"
   ]
  },
  {
   "cell_type": "code",
   "execution_count": 2,
   "metadata": {},
   "outputs": [],
   "source": [
    "def double_log_transform(x):\n",
    "    '''Transform x by taking the log of the data after shifting by 1. This operation is done two times iteratively.'''\n",
    "    return np.log10(np.log10(x + 1) + 1)\n",
    "\n",
    "def cube_root_transform(x):\n",
    "    '''Transform x by taking the cube root of the data.'''\n",
    "    return np.cbrt(x)"
   ]
  },
  {
   "cell_type": "code",
   "execution_count": 3,
   "metadata": {},
   "outputs": [],
   "source": [
    "def area_under_precision_recall_curve(y_true, y_pred):\n",
    "    '''Function that can compute the area under precision recall curve'''\n",
    "    precision, recall, _ = precision_recall_curve(y_true, y_pred)\n",
    "    auc_precision_recall = auc(recall, precision)\n",
    "    return auc_precision_recall"
   ]
  },
  {
   "cell_type": "code",
   "execution_count": 4,
   "metadata": {},
   "outputs": [],
   "source": [
    "def find_best_cv_params(X, Y, training_pipeline, params, scoring, score_name, n_iter = 25, search_type = 'random', cv = 5):\n",
    "    '''Perform random search or grid search on given X and Y using given model & parameter distributions preceeded by column_trasnformer, standard_scaler & resampler.\n",
    "    n_iter(for random search), cv(no. of splits), scoring(score for finding best params) can be passed as parameters.'''\n",
    "    \n",
    "    if search_type == 'random':\n",
    "        cross_validator = RandomizedSearchCV(training_pipeline,\n",
    "                                             param_distributions = params,\n",
    "                                             n_iter = n_iter,\n",
    "                                             cv = cv,\n",
    "                                             scoring = scoring,\n",
    "                                             return_train_score = True,\n",
    "                                             refit = False,\n",
    "                                             error_score = 0,\n",
    "                                             n_jobs = -1,\n",
    "                                             random_state = 42)\n",
    "    elif search_type == 'grid':\n",
    "        cross_validator = GridSearchCV(training_pipeline,\n",
    "                                       param_grid = params,\n",
    "                                       scoring = scoring,\n",
    "                                       cv = cv,\n",
    "                                       n_jobs = -1,\n",
    "                                       refit = False,\n",
    "                                       error_score = 0,\n",
    "                                       return_train_score = True)\n",
    "    else:\n",
    "        print('Invalid search type. Aborting.')\n",
    "        return None\n",
    "\n",
    "    cross_validator.fit(X, Y)\n",
    "    print(f'For model - {training_pipeline.steps[-1][0]} {search_type} search:')\n",
    "    print('----------------------------------------------------------')\n",
    "    print(f'Best mean {score_name}:')\n",
    "    print(f'Train set: {np.round(max(cross_validator.cv_results_['mean_train_score']), 3)}')\n",
    "    print(f'Validation set: {np.round(cross_validator.best_score_, 3)}')\n",
    "    print('----------------------------------------------------------')\n",
    "\n",
    "    if search_type == 'random':\n",
    "        return cross_validator.best_params_\n",
    "    elif search_type == 'grid':\n",
    "        print(cross_validator.best_params_)\n",
    "        return cross_validator.best_params_"
   ]
  },
  {
   "cell_type": "code",
   "execution_count": 5,
   "metadata": {},
   "outputs": [],
   "source": [
    "def train_and_evaluate_models(models, X_train, Y_train, X_test, Y_test):\n",
    "    '''Train final model pipelines on train set and evaluate on test set. Print out the train and test scores and in the end return the best model pipeline.'''\n",
    "    best_score = -1\n",
    "\n",
    "    print('Final model training and evaluation:')\n",
    "    print('----------------------------------------------------------')\n",
    "    for index, model in enumerate(models):\n",
    "        X_train_transformed = model['pre-processor'].fit_transform(X_train, Y_train)\n",
    "        X_train_transformed, Y_train_transformed = model['resampler'].fit_resample(X_train_transformed, Y_train)\n",
    "        model['model'].set_params(**model['best_params'])\n",
    "        model['model'].fit(X_train_transformed, Y_train_transformed)\n",
    "\n",
    "        Y_pred_train = model['model'].predict_proba(model['pre-processor'].transform(X_train))\n",
    "        Y_pred_test = model['model'].predict_proba(model['pre-processor'].transform(X_test))\n",
    "\n",
    "        train_score = area_under_precision_recall_curve(Y_train, Y_pred_train[:, 1])\n",
    "        test_score = area_under_precision_recall_curve(Y_test, Y_pred_test[:, 1])\n",
    "\n",
    "        print(f'For model - {model['name'].replace(\"_\", \" \")}:')\n",
    "        print('----------------------------------------------------------')\n",
    "        print(f'Area under precision-recall curve:')\n",
    "        print(f'Train set: {np.round(train_score, 3)}')\n",
    "        print(f'Test set: {np.round(test_score, 3)}')\n",
    "        print('----------------------------------------------------------')\n",
    "\n",
    "        if test_score > best_score:\n",
    "            best_model_index = index\n",
    "            best_score = test_score\n",
    "\n",
    "    return models[best_model_index]['pre-processor'], models[best_model_index]['model']"
   ]
  },
  {
   "cell_type": "code",
   "execution_count": 67,
   "metadata": {},
   "outputs": [],
   "source": [
    "def plot_decision_tree(model, target_classes):\n",
    "    '''Plot decision tree graph from model'''\n",
    "    tree_dot = tree.export_graphviz(model, out_file = None, class_names = target_classes, rounded = True, filled = True, )\n",
    "    display(Image(pydotplus.graph_from_dot_data(tree_dot).create_png()))"
   ]
  },
  {
   "cell_type": "markdown",
   "metadata": {},
   "source": [
    "### Loading the dataset"
   ]
  },
  {
   "cell_type": "code",
   "execution_count": 6,
   "metadata": {},
   "outputs": [],
   "source": [
    "df_train = pd.read_csv('Data/creditcard_train.csv')"
   ]
  },
  {
   "cell_type": "markdown",
   "metadata": {},
   "source": [
    "### Handling imbalance"
   ]
  },
  {
   "cell_type": "markdown",
   "metadata": {},
   "source": [
    "We have already seen the huge imbalance that exists within our dataset. We need to mitigate that imbalance, otherwise our model will focus more on the majority class(genuine transactions). There are many techniques that we can use:  \n",
    "\n",
    "1. <u>Undersampling of majority class:</u> We take random sample of majority class so that the size matches that of minority class. This will reduce the dataset size which is good if we want reduced computation effort and thus, will lead to faster computation but at the same time it will lead to loss of information and can give overly optimistic performance which we might not observe on test set.  \n",
    "\n",
    "2. <u>Oversampling of minority class:</u> We do random sampling on minority class with replacement so that the size of minority class matches that of majority class. This will increase dataset's size which will lead to more computational effort but will preserve information unlike undersampling. Duplicates are generated within minority class and this can lead to overfitting.  \n",
    "\n",
    "3. <u>Synthetic data generation techniques:</u> We use techniques like SMOTE, its variants or ADASYN to oversample minority class in a systematic way by adding points in between existing minority class data points with some logic behind it. This is the best way to upsample as duplication is not present but points are added along straight lines in between existing data points and this can lead to addition of artificial patterns. \n",
    "\n",
    "4. <u>Weight based sensitivity:</u> Many algorithms allow us to specify weights for each record of our dataset, we can assign higher weights to minority class records and the algorithm will focus more on them."
   ]
  },
  {
   "cell_type": "markdown",
   "metadata": {},
   "source": [
    "I would like to try both synthetic generation and weight based sensitivity, then compare them but the dataset is decently big in size and I want to perform cross-validaiton for hyper parameter tuning as well and thus, there is a problem here.  "
   ]
  },
  {
   "cell_type": "markdown",
   "metadata": {},
   "source": [
    "When we generate cross-validation sets they should be first split up and then each of the set should be passed through the synthetic generator, any other transformations and then finally evaluated upon. This is done after splitting so that the information doesn't leak in between train and validation sets."
   ]
  },
  {
   "cell_type": "markdown",
   "metadata": {},
   "source": [
    "I will use ADASYN for synthetic generation of new data points. ADSYN tries to add more data towards the low density points of minority class. This means that even noisy points of fraudulent class will get more attention and it might overfit a bit too much on the minority class i.e. it might perform very well on minority class but poorer on majority class. In a case like this of frauds and scams, we want to primarily focus on predicting fraud cases as best as possible and even if some genuine cases(as long as its not too much above some threshold) are predicted to be as fraud we should be okay with it as the credit card issuer can provide tighter verification to user in these cases. This way we have tight leash on frauds which will save the company money and tighter verification for genuine cases predicted as fraud. If its too much overfitting we can try other techniques like SMOTE."
   ]
  },
  {
   "cell_type": "code",
   "execution_count": 7,
   "metadata": {},
   "outputs": [],
   "source": [
    "# Splitting data into X_train and Y_train for further use\n",
    "X_train, Y_train = df_train.iloc[:, :-1], df_train.iloc[:, -1]\n",
    "\n",
    "# ADASYN resampler fo synthetic generation of minority class\n",
    "ADASYN_resampler = ADASYN(sampling_strategy = 'auto', random_state = 42)"
   ]
  },
  {
   "cell_type": "markdown",
   "metadata": {},
   "source": [
    "### Feature Engineering"
   ]
  },
  {
   "cell_type": "markdown",
   "metadata": {},
   "source": [
    "Based on the EDA notebook, I have to perform following transformations and manipulations on my dataset:  \n",
    "- Take log10 Amount column after shiting the data by 1. This is done two times iteratively.  \n",
    "- Drop 3 columns: V13, V15, and V23.  \n",
    "- Take cube root of all the rest of PCA encoded columns.  "
   ]
  },
  {
   "cell_type": "markdown",
   "metadata": {},
   "source": [
    "The order of the transformations will be as followed:  \n",
    "- Transform columns based on EDA.  \n",
    "- Standardize columns so that scales of columns are similar.  \n",
    "- Then in the last use ADASYN for upsampling minority class."
   ]
  },
  {
   "cell_type": "code",
   "execution_count": 8,
   "metadata": {},
   "outputs": [],
   "source": [
    "# Define the columns to be transformed\n",
    "double_log_transform_columns = ['Amount']\n",
    "cube_root_transform_columns = ['V' + str(i) for i in range(1, 29) if i not in [13, 15, 23]]\n",
    "passthrough_columns = ['Time']\n",
    "drop_columns = ['V13', 'V15', 'V23']\n",
    "\n",
    "# Define the functional transformers for the group of columns\n",
    "double_log_transformer = FunctionTransformer(func = double_log_transform, feature_names_out = 'one-to-one')\n",
    "cube_root_transformer = FunctionTransformer(func = cube_root_transform, feature_names_out = 'one-to-one')\n",
    "pass_through_transformer = 'passthrough'\n",
    "\n",
    "# Create transformers\n",
    "column_transformer = ColumnTransformer([('double_log_transform', double_log_transformer, double_log_transform_columns),\n",
    "                                        ('cube_root_transformer', cube_root_transformer, cube_root_transform_columns),\n",
    "                                        ('passthrough', pass_through_transformer, passthrough_columns)],\n",
    "                                        remainder = 'drop')\n",
    "standard_scaler = StandardScaler()"
   ]
  },
  {
   "cell_type": "markdown",
   "metadata": {},
   "source": [
    "### Predictive Modeling"
   ]
  },
  {
   "cell_type": "markdown",
   "metadata": {},
   "source": [
    "**What metric to choose for evaluation?**  \n",
    "Since its an imbalanced dataset, we can't use accuracy as an evaluation metric as that would be highly influenced by the majority class.  \n",
    "\n",
    "If we were to work on this problem statement in a business setting, then we would have some criteria on precision and recall that the final model should achieve to be actually useful and deployed into production. Since we want to focus more on fraud to keep chargeback costs to lower amount, we would have had stricter criteria on recall so that the prediction within fraud class is quite good and a more relaxed criteria on precision meaning that we can allow more errors in genuine cases. But these are two metrics, how can we use two metrics to properly compare several models? That's why measures which combine these precision and recall into one measure are used for model comparison. Once the final model in decided based on this summarization measure, we can adjust the threshold on the soft probability to adjust precision and recall levels of the model. If then we are able to achieve precision and recall above our business criterias, we can go forward to deploying our model otherwise we go back to the drawing board.  \n",
    "\n",
    "For evaluating, imbalanced datasets F1 score, area under the ROC and area under the precision-recall curve are common measures. For very high imbalanced dataset, precision-recall curve area is seen to be more sensitive and thus, better towards summarizing the performance. Therefore, F1 score or area under the precision-recall curve can be used here. As per the datasets author they have suggested to use area under precision-recall curve and that's what I will use here."
   ]
  },
  {
   "cell_type": "code",
   "execution_count": 9,
   "metadata": {},
   "outputs": [],
   "source": [
    "# Defining the evaluation metric scorer object\n",
    "area_under_precision_recall_curve_scorer = make_scorer(area_under_precision_recall_curve, response_method = 'predict_proba', greater_is_better = True)"
   ]
  },
  {
   "cell_type": "markdown",
   "metadata": {},
   "source": [
    "#### Experimenting"
   ]
  },
  {
   "cell_type": "markdown",
   "metadata": {},
   "source": [
    "For experimental purpose, I will start with logistic regression model.  \n",
    "\n",
    "I will try to see the following things:  \n",
    "1. Class weight balancing vs ADASYN resampler  \n",
    "2. Does column transformation have any effect on performance or not?"
   ]
  },
  {
   "cell_type": "markdown",
   "metadata": {},
   "source": [
    "##### 1. Logistic Regression with Class weight balancing"
   ]
  },
  {
   "cell_type": "code",
   "execution_count": 11,
   "metadata": {},
   "outputs": [
    {
     "name": "stdout",
     "output_type": "stream",
     "text": [
      "For model - Logistic_Regression random search:\n",
      "----------------------------------------------------------\n",
      "Best mean area under precision recall curve:\n",
      "Train set: 0.713\n",
      "Validation set: 0.715\n",
      "----------------------------------------------------------\n"
     ]
    },
    {
     "data": {
      "text/plain": [
       "{'Logistic_Regression__solver': 'newton-cg',\n",
       " 'Logistic_Regression__penalty': 'l2',\n",
       " 'Logistic_Regression__l1_ratio': np.float64(0.5),\n",
       " 'Logistic_Regression__C': np.float64(0.23357214690901212)}"
      ]
     },
     "execution_count": 11,
     "metadata": {},
     "output_type": "execute_result"
    }
   ],
   "source": [
    "# Performing random search cross-validation\n",
    "\n",
    "find_best_cv_params(X_train,\n",
    "                    Y_train,\n",
    "                    Pipeline([('column_transformer', column_transformer), \n",
    "                              ('standard_scaler', standard_scaler),\n",
    "                              ('Logistic_Regression', LogisticRegression(class_weight = 'balanced', n_jobs = -1, random_state = 123))]), \n",
    "                    {'Logistic_Regression__penalty' : ['l1', 'l2', 'elasticnet', None],\n",
    "                     'Logistic_Regression__C' : np.logspace(-4, 4, 20), \n",
    "                     'Logistic_Regression__solver': ['lbfgs', 'newton-cg', 'sag', 'saga'],\n",
    "                     'Logistic_Regression__l1_ratio': np.linspace(0.1, 1, 9, endpoint = False)}, \n",
    "                    area_under_precision_recall_curve_scorer,\n",
    "                    'area under precision recall curve',\n",
    "                    n_iter = 50)"
   ]
  },
  {
   "cell_type": "code",
   "execution_count": 12,
   "metadata": {},
   "outputs": [
    {
     "name": "stdout",
     "output_type": "stream",
     "text": [
      "For model - Logistic_Regression grid search:\n",
      "----------------------------------------------------------\n",
      "Best mean area under precision recall curve:\n",
      "Train set: 0.713\n",
      "Validation set: 0.715\n",
      "----------------------------------------------------------\n",
      "{'Logistic_Regression__C': np.float64(0.13250193550567485), 'Logistic_Regression__penalty': 'l2', 'Logistic_Regression__solver': 'newton-cg'}\n"
     ]
    }
   ],
   "source": [
    "# Performing grid search cross-validation\n",
    "\n",
    "best_params = find_best_cv_params(X_train,\n",
    "                                  Y_train,\n",
    "                                  Pipeline([('column_transformer', column_transformer), \n",
    "                                            ('standard_scaler', standard_scaler),\n",
    "                                            ('Logistic_Regression', LogisticRegression(class_weight = 'balanced', n_jobs = -1, random_state = 123))]),\n",
    "                                  {'Logistic_Regression__penalty' : ['l2'],\n",
    "                                  'Logistic_Regression__C' : np.logspace(-1.5, -0.8, 10), \n",
    "                                  'Logistic_Regression__solver': ['newton-cg']}, \n",
    "                                  area_under_precision_recall_curve_scorer,\n",
    "                                  'area under precision recall curve',\n",
    "                                  search_type = 'grid')"
   ]
  },
  {
   "cell_type": "markdown",
   "metadata": {},
   "source": [
    "##### 2. Logistic Regression with ADASYN resampler"
   ]
  },
  {
   "cell_type": "code",
   "execution_count": 13,
   "metadata": {},
   "outputs": [
    {
     "name": "stdout",
     "output_type": "stream",
     "text": [
      "For model - Logistic_Regression random search:\n",
      "----------------------------------------------------------\n",
      "Best mean area under precision recall curve:\n",
      "Train set: 0.41\n",
      "Validation set: 0.421\n",
      "----------------------------------------------------------\n"
     ]
    },
    {
     "data": {
      "text/plain": [
       "{'Logistic_Regression__solver': 'saga',\n",
       " 'Logistic_Regression__penalty': 'elasticnet',\n",
       " 'Logistic_Regression__l1_ratio': np.float64(0.30000000000000004),\n",
       " 'Logistic_Regression__C': np.float64(0.0006951927961775605)}"
      ]
     },
     "execution_count": 13,
     "metadata": {},
     "output_type": "execute_result"
    }
   ],
   "source": [
    "# Performing random search cross-validation\n",
    "\n",
    "find_best_cv_params(X_train,\n",
    "                    Y_train,\n",
    "                    Pipeline([('column_transformer', column_transformer), \n",
    "                              ('standard_scaler', standard_scaler),\n",
    "                              ('ADASYN_resample', ADASYN_resampler),\n",
    "                              ('Logistic_Regression', LogisticRegression(n_jobs = -1, random_state = 123))]),\n",
    "                    {'Logistic_Regression__penalty' : ['l1', 'l2', 'elasticnet', None],\n",
    "                     'Logistic_Regression__C' : np.logspace(-4, 4, 20), \n",
    "                     'Logistic_Regression__solver': ['lbfgs', 'newton-cg', 'sag', 'saga'],\n",
    "                     'Logistic_Regression__l1_ratio': np.linspace(0.1, 1, 9, endpoint = False)}, \n",
    "                    area_under_precision_recall_curve_scorer,\n",
    "                    'area under precision recall curve',\n",
    "                    n_iter = 50)"
   ]
  },
  {
   "cell_type": "markdown",
   "metadata": {},
   "source": [
    "Seems like its undefitting. Does it mean that using ADASYN has introduced artificial noise thus making the patterns complexer? Because if data has become more complex and model is simpler that would lead to underfitting. Maybe we can also play with parameters of ADASYN and hope things change but I won't try this here. Rather, I want to try SMOTE."
   ]
  },
  {
   "cell_type": "markdown",
   "metadata": {},
   "source": [
    "##### 3. Logistic Regression with SMOTE resampler"
   ]
  },
  {
   "cell_type": "code",
   "execution_count": 14,
   "metadata": {},
   "outputs": [],
   "source": [
    "# Defining smote resampler\n",
    "SMOTE_resampler = SMOTE(random_state = 42)"
   ]
  },
  {
   "cell_type": "code",
   "execution_count": 15,
   "metadata": {},
   "outputs": [
    {
     "name": "stdout",
     "output_type": "stream",
     "text": [
      "For model - Logistic_Regression random search:\n",
      "----------------------------------------------------------\n",
      "Best mean area under precision recall curve:\n",
      "Train set: 0.701\n",
      "Validation set: 0.694\n",
      "----------------------------------------------------------\n"
     ]
    },
    {
     "data": {
      "text/plain": [
       "{'Logistic_Regression__solver': 'saga',\n",
       " 'Logistic_Regression__penalty': 'elasticnet',\n",
       " 'Logistic_Regression__l1_ratio': np.float64(0.30000000000000004),\n",
       " 'Logistic_Regression__C': np.float64(0.0006951927961775605)}"
      ]
     },
     "execution_count": 15,
     "metadata": {},
     "output_type": "execute_result"
    }
   ],
   "source": [
    "# Performing random search cross-validation\n",
    "\n",
    "find_best_cv_params(X_train,\n",
    "                    Y_train,\n",
    "                    Pipeline([('column_transformer', column_transformer), \n",
    "                              ('standard_scaler', standard_scaler),\n",
    "                              ('SMOTE_resample', SMOTE_resampler),\n",
    "                              ('Logistic_Regression', LogisticRegression(n_jobs = -1, random_state = 123))]),\n",
    "                    {'Logistic_Regression__penalty' : ['l1', 'l2', 'elasticnet', None],\n",
    "                     'Logistic_Regression__C' : np.logspace(-4, 4, 20), \n",
    "                     'Logistic_Regression__solver': ['lbfgs', 'newton-cg', 'sag', 'saga'],\n",
    "                     'Logistic_Regression__l1_ratio': np.linspace(0.1, 1, 9, endpoint = False)}, \n",
    "                    area_under_precision_recall_curve_scorer,\n",
    "                    'area under precision recall curve',\n",
    "                    n_iter = 50)"
   ]
  },
  {
   "cell_type": "markdown",
   "metadata": {},
   "source": [
    "SMOTE tends to work much better than ADASYN in this problem statement. ADASYN tries to add artificial points more and more near  the exisitng points which are farther from the center of minority class i.e. points which are mostly surrounded by majority class points. But what if these points are pure noisy points which we don't want to focus on, then ADASYN will force us to focus on those points unnecessarily and this will affect our performance. SMOTE on the other hand adds new points randomly and is seen to perform much better than ADASYN."
   ]
  },
  {
   "cell_type": "code",
   "execution_count": 16,
   "metadata": {},
   "outputs": [
    {
     "name": "stdout",
     "output_type": "stream",
     "text": [
      "For model - Logistic_Regression grid search:\n",
      "----------------------------------------------------------\n",
      "Best mean area under precision recall curve:\n",
      "Train set: 0.72\n",
      "Validation set: 0.722\n",
      "----------------------------------------------------------\n",
      "{'Logistic_Regression__C': np.float64(0.0001), 'Logistic_Regression__l1_ratio': np.float64(0.4), 'Logistic_Regression__penalty': 'elasticnet', 'Logistic_Regression__solver': 'saga'}\n"
     ]
    }
   ],
   "source": [
    "# Performing grid search cross-validation\n",
    "\n",
    "best_params = find_best_cv_params(X_train,\n",
    "                                  Y_train,\n",
    "                                  Pipeline([('column_transformer', column_transformer), \n",
    "                                            ('standard_scaler', standard_scaler),\n",
    "                                            ('SMOTE_resample', SMOTE_resampler),\n",
    "                                            ('Logistic_Regression', LogisticRegression(n_jobs = -1, random_state = 123))]),\n",
    "                                  {'Logistic_Regression__penalty' : ['elasticnet'],\n",
    "                                  'Logistic_Regression__C' : np.logspace(-3, -4, 10), \n",
    "                                  'Logistic_Regression__solver': ['saga'],\n",
    "                                  'Logistic_Regression__l1_ratio': np.linspace(0.2, 0.4, 5, endpoint = True)}, \n",
    "                                  area_under_precision_recall_curve_scorer,\n",
    "                                  'area under precision recall curve',\n",
    "                                  search_type = 'grid')"
   ]
  },
  {
   "cell_type": "markdown",
   "metadata": {},
   "source": [
    "SMOTE performs slighlty better than class weight balancing. Going on ahead we will work with SMOTE only. Now, lets see the influence of the transformations that we have introduced during EDA."
   ]
  },
  {
   "cell_type": "markdown",
   "metadata": {},
   "source": [
    "##### 4. Logistic Regression with SMOTE and without Amount column transformation"
   ]
  },
  {
   "cell_type": "code",
   "execution_count": 17,
   "metadata": {},
   "outputs": [],
   "source": [
    "# column transformer without Amount column transformation\n",
    "column_transformer_1 = ColumnTransformer([('cube_root_transform', cube_root_transformer, cube_root_transform_columns),\n",
    "                                          ('drop', 'drop', drop_columns)],\n",
    "                                          remainder = 'passthrough')"
   ]
  },
  {
   "cell_type": "code",
   "execution_count": 18,
   "metadata": {},
   "outputs": [
    {
     "name": "stdout",
     "output_type": "stream",
     "text": [
      "For model - Logistic_Regression random search:\n",
      "----------------------------------------------------------\n",
      "Best mean area under precision recall curve:\n",
      "Train set: 0.705\n",
      "Validation set: 0.7\n",
      "----------------------------------------------------------\n"
     ]
    },
    {
     "data": {
      "text/plain": [
       "{'Logistic_Regression__solver': 'saga',\n",
       " 'Logistic_Regression__penalty': 'elasticnet',\n",
       " 'Logistic_Regression__l1_ratio': np.float64(0.30000000000000004),\n",
       " 'Logistic_Regression__C': np.float64(0.0006951927961775605)}"
      ]
     },
     "execution_count": 18,
     "metadata": {},
     "output_type": "execute_result"
    }
   ],
   "source": [
    "# Performing random search cross-validation\n",
    "\n",
    "find_best_cv_params(X_train,\n",
    "                    Y_train,\n",
    "                    Pipeline([('column_transformer', column_transformer_1), \n",
    "                              ('standard_scaler', standard_scaler),\n",
    "                              ('SMOTE_resample', SMOTE_resampler),\n",
    "                              ('Logistic_Regression', LogisticRegression(n_jobs = -1, random_state = 123))]),\n",
    "                    {'Logistic_Regression__penalty' : ['l1', 'l2', 'elasticnet', None],\n",
    "                     'Logistic_Regression__C' : np.logspace(-4, 4, 20), \n",
    "                     'Logistic_Regression__solver': ['lbfgs', 'newton-cg', 'sag', 'saga'],\n",
    "                     'Logistic_Regression__l1_ratio': np.linspace(0.1, 1, 9, endpoint = False)}, \n",
    "                    area_under_precision_recall_curve_scorer,\n",
    "                    'area under precision recall curve',\n",
    "                    n_iter = 50)"
   ]
  },
  {
   "cell_type": "code",
   "execution_count": 19,
   "metadata": {},
   "outputs": [
    {
     "name": "stdout",
     "output_type": "stream",
     "text": [
      "For model - Logistic_Regression grid search:\n",
      "----------------------------------------------------------\n",
      "Best mean area under precision recall curve:\n",
      "Train set: 0.718\n",
      "Validation set: 0.721\n",
      "----------------------------------------------------------\n",
      "{'Logistic_Regression__C': np.float64(0.0001), 'Logistic_Regression__l1_ratio': np.float64(0.4), 'Logistic_Regression__penalty': 'elasticnet', 'Logistic_Regression__solver': 'saga'}\n"
     ]
    }
   ],
   "source": [
    "# Performing grid search cross-validation\n",
    "\n",
    "best_params = find_best_cv_params(X_train,\n",
    "                                  Y_train,\n",
    "                                  Pipeline([('column_transformer', column_transformer_1), \n",
    "                                              ('standard_scaler', standard_scaler),\n",
    "                                              ('SMOTE_resample', SMOTE_resampler),\n",
    "                                              ('Logistic_Regression', LogisticRegression(n_jobs = -1, random_state = 123))]),\n",
    "                                  {'Logistic_Regression__penalty' : ['elasticnet'],\n",
    "                                  'Logistic_Regression__C' : np.logspace(-4, -3, 10),\n",
    "                                  'Logistic_Regression__l1_ratio': np.linspace(0.2, 0.4, 5, endpoint = True),\n",
    "                                  'Logistic_Regression__solver': ['saga']}, \n",
    "                                  area_under_precision_recall_curve_scorer,\n",
    "                                  'area under precision recall curve',\n",
    "                                  search_type = 'grid')"
   ]
  },
  {
   "cell_type": "markdown",
   "metadata": {},
   "source": [
    "There is a very sligth decrease in performance of 0.001. Thus, the transformation on amount is benefecial but not by much. This most probably means that the patterns observed across range of Amount column are same."
   ]
  },
  {
   "cell_type": "markdown",
   "metadata": {},
   "source": [
    "##### 5. Logistic Regression with SMOTE and without V1 to V28 column transformation"
   ]
  },
  {
   "cell_type": "code",
   "execution_count": 20,
   "metadata": {},
   "outputs": [],
   "source": [
    "# column transformer without cube root trasnformation of V1 to V28 columns \n",
    "column_transformer_2 = ColumnTransformer([('double_log_transform', double_log_transformer, double_log_transform_columns),\n",
    "                                          ('drop', 'drop', drop_columns)],\n",
    "                                          remainder = 'passthrough')"
   ]
  },
  {
   "cell_type": "code",
   "execution_count": 21,
   "metadata": {},
   "outputs": [
    {
     "name": "stdout",
     "output_type": "stream",
     "text": [
      "For model - Logistic_Regression random search:\n",
      "----------------------------------------------------------\n",
      "Best mean area under precision recall curve:\n",
      "Train set: 0.76\n",
      "Validation set: 0.757\n",
      "----------------------------------------------------------\n"
     ]
    },
    {
     "data": {
      "text/plain": [
       "{'Logistic_Regression__solver': 'sag',\n",
       " 'Logistic_Regression__penalty': 'l2',\n",
       " 'Logistic_Regression__l1_ratio': np.float64(0.30000000000000004),\n",
       " 'Logistic_Regression__C': np.float64(10000.0)}"
      ]
     },
     "execution_count": 21,
     "metadata": {},
     "output_type": "execute_result"
    }
   ],
   "source": [
    "# Performing random search cross-validation\n",
    "\n",
    "find_best_cv_params(X_train,\n",
    "                    Y_train,\n",
    "                    Pipeline([('column_transformer', column_transformer_2), \n",
    "                              ('standard_scaler', standard_scaler),\n",
    "                              ('SMOTE_resample', SMOTE_resampler),\n",
    "                              ('Logistic_Regression', LogisticRegression(n_jobs = -1, random_state = 123))]),\n",
    "                    {'Logistic_Regression__penalty' : ['l1', 'l2', 'elasticnet', None],\n",
    "                     'Logistic_Regression__C' : np.logspace(-4, 4, 20), \n",
    "                     'Logistic_Regression__solver': ['lbfgs', 'newton-cg', 'sag', 'saga'],\n",
    "                     'Logistic_Regression__l1_ratio': np.linspace(0.1, 1, 9, endpoint = False)}, \n",
    "                    area_under_precision_recall_curve_scorer,\n",
    "                    'area under precision recall curve',\n",
    "                    n_iter = 50)"
   ]
  },
  {
   "cell_type": "code",
   "execution_count": 22,
   "metadata": {},
   "outputs": [
    {
     "name": "stdout",
     "output_type": "stream",
     "text": [
      "For model - Logistic_Regression grid search:\n",
      "----------------------------------------------------------\n",
      "Best mean area under precision recall curve:\n",
      "Train set: 0.76\n",
      "Validation set: 0.757\n",
      "----------------------------------------------------------\n",
      "{'Logistic_Regression__C': np.float64(1000.0), 'Logistic_Regression__penalty': 'l2', 'Logistic_Regression__solver': 'sag'}\n"
     ]
    }
   ],
   "source": [
    "# Performing grid search cross-validation\n",
    "\n",
    "best_params = find_best_cv_params(X_train,\n",
    "                                  Y_train,\n",
    "                                  Pipeline([('column_transformer', column_transformer_2), \n",
    "                                            ('standard_scaler', standard_scaler),\n",
    "                                            ('SMOTE_resample', SMOTE_resampler),\n",
    "                                            ('Logistic_Regression', LogisticRegression(n_jobs = -1, random_state = 123))]),\n",
    "                                  {'Logistic_Regression__penalty' : ['l2'],\n",
    "                                  'Logistic_Regression__solver': ['sag'],\n",
    "                                  'Logistic_Regression__C' : np.logspace(3, 5, 20)}, \n",
    "                                  area_under_precision_recall_curve_scorer,\n",
    "                                  'area under precision recall curve',\n",
    "                                  search_type = 'grid')"
   ]
  },
  {
   "cell_type": "markdown",
   "metadata": {},
   "source": [
    "The model performance has improved considerably compared to when the transformations were present. The transformation was done from the persepective that even extreme points should have similar weightage when it comes to training so that the algorithm can perform better throughout the range of these predictor features but this increase in performance implies that these extreme points on which when we focussed more lead to poorer performance overall, this means that these variables could have outliers which don't follow similar pattern as majority of data points. Also, our model is quite simple and linear in nature. Thus, if the patterns become non-linear near these extreme points then our model would not be able to model it appropriately, this means that we might need more complex models to do so. Thus, I should try more complex model like decision tree first, before we jump to more conclusions."
   ]
  },
  {
   "cell_type": "markdown",
   "metadata": {},
   "source": [
    "##### 6. Decision tree with SMOTE"
   ]
  },
  {
   "cell_type": "code",
   "execution_count": 29,
   "metadata": {},
   "outputs": [
    {
     "name": "stdout",
     "output_type": "stream",
     "text": [
      "For model - Decision_Tree random search:\n",
      "----------------------------------------------------------\n",
      "Best mean area under precision recall curve:\n",
      "Train set: 0.661\n",
      "Validation set: 0.646\n",
      "----------------------------------------------------------\n"
     ]
    },
    {
     "data": {
      "text/plain": [
       "{'Decision_Tree__splitter': 'best',\n",
       " 'Decision_Tree__min_samples_leaf': 85,\n",
       " 'Decision_Tree__max_features': None,\n",
       " 'Decision_Tree__max_depth': 2,\n",
       " 'Decision_Tree__criterion': 'log_loss'}"
      ]
     },
     "execution_count": 29,
     "metadata": {},
     "output_type": "execute_result"
    }
   ],
   "source": [
    "# Performing random search cross-validation\n",
    "\n",
    "find_best_cv_params(X_train,\n",
    "                    Y_train,\n",
    "                    Pipeline([('column_transformer', column_transformer), \n",
    "                              ('standard_scaler', standard_scaler),\n",
    "                              ('SMOTE_resample', SMOTE_resampler),\n",
    "                              ('Decision_Tree', DecisionTreeClassifier(random_state = 123))]),                    \n",
    "                    {'Decision_Tree__max_features': [None, 'sqrt', 'log2'],\n",
    "                     'Decision_Tree__min_samples_leaf': list(range(5, 101, 5)),\n",
    "                     'Decision_Tree__max_depth' : list(range(2, 3, 1)),\n",
    "                     'Decision_Tree__splitter': ['best', 'random'],\n",
    "                     'Decision_Tree__criterion' :['gini', 'entropy', 'log_loss']}, \n",
    "                    area_under_precision_recall_curve_scorer,\n",
    "                    'area under precision recall curve',\n",
    "                    n_iter = 50)"
   ]
  },
  {
   "cell_type": "code",
   "execution_count": 30,
   "metadata": {},
   "outputs": [
    {
     "name": "stdout",
     "output_type": "stream",
     "text": [
      "For model - Decision_Tree grid search:\n",
      "----------------------------------------------------------\n",
      "Best mean area under precision recall curve:\n",
      "Train set: 0.661\n",
      "Validation set: 0.646\n",
      "----------------------------------------------------------\n",
      "{'Decision_Tree__criterion': 'entropy', 'Decision_Tree__max_depth': 2, 'Decision_Tree__max_features': None, 'Decision_Tree__min_samples_leaf': 65, 'Decision_Tree__splitter': 'best'}\n"
     ]
    }
   ],
   "source": [
    "# Performing random search cross-validation\n",
    "\n",
    "best_params = find_best_cv_params(X_train,\n",
    "                                  Y_train,\n",
    "                                  Pipeline([('column_transformer', column_transformer), \n",
    "                                            ('standard_scaler', standard_scaler),\n",
    "                                            ('SMOTE_resample', SMOTE_resampler),\n",
    "                                            ('Decision_Tree', DecisionTreeClassifier(random_state = 123))]),                    \n",
    "                                  {'Decision_Tree__max_features': [None],\n",
    "                                   'Decision_Tree__min_samples_leaf': list(range(65, 106, 2)),\n",
    "                                   'Decision_Tree__max_depth' : list(range(2, 3, 1)),\n",
    "                                   'Decision_Tree__splitter': ['best'],\n",
    "                                   'Decision_Tree__criterion' :['entropy']}, \n",
    "                                   area_under_precision_recall_curve_scorer,\n",
    "                                  'area under precision recall curve',\n",
    "                                   search_type = 'grid')"
   ]
  },
  {
   "cell_type": "markdown",
   "metadata": {},
   "source": [
    "Th perforamnce is significantly poorer compared to logistic regression. Clearly, there is not too much complexity in the dataset decision boundaries based on the fact that the depth of the tree is not too much. Also, the model is underfitting as the performance is poor on both train and validation set. Any higher tree depth is leading to overfitting."
   ]
  },
  {
   "cell_type": "markdown",
   "metadata": {},
   "source": [
    "But there is one problem with decision trees and that is it does piecewise approximation of the decision boundaries which can be detrimental for performance in case the decision boundaries are not parallel to the predictor axes and thus, it might even perfom poorer  than logistic regression sometimes. One thing that can be tried here is PCA which maybe help in the case that the decision boundaries are linear but may not for when non-linearity comes into decision boundaries. Lets try PCA as well. But most of the columns went through PCA already, only two columns Amount and Time are new. Thus, it might not have much effect, lets see."
   ]
  },
  {
   "cell_type": "markdown",
   "metadata": {},
   "source": [
    "##### 7. Decision tree with SMOTE and PCA"
   ]
  },
  {
   "cell_type": "code",
   "execution_count": 31,
   "metadata": {},
   "outputs": [
    {
     "name": "stdout",
     "output_type": "stream",
     "text": [
      "For model - Decision_Tree random search:\n",
      "----------------------------------------------------------\n",
      "Best mean area under precision recall curve:\n",
      "Train set: 0.807\n",
      "Validation set: 0.804\n",
      "----------------------------------------------------------\n"
     ]
    },
    {
     "data": {
      "text/plain": [
       "{'Decision_Tree__splitter': 'best',\n",
       " 'Decision_Tree__min_samples_leaf': 75,\n",
       " 'Decision_Tree__max_features': None,\n",
       " 'Decision_Tree__max_depth': 1,\n",
       " 'Decision_Tree__criterion': 'entropy'}"
      ]
     },
     "execution_count": 31,
     "metadata": {},
     "output_type": "execute_result"
    }
   ],
   "source": [
    "# Performing random search cross-validation\n",
    "\n",
    "find_best_cv_params(X_train,\n",
    "                    Y_train,\n",
    "                    Pipeline([('column_transformer', column_transformer), \n",
    "                              ('pca', PCA(random_state = 42)),\n",
    "                              ('standard_scaler', standard_scaler),\n",
    "                              ('SMOTE_resample', SMOTE_resampler),\n",
    "                              ('Decision_Tree', DecisionTreeClassifier(random_state = 123))]),                    \n",
    "                    {'Decision_Tree__max_features': [None, 'sqrt', 'log2'],\n",
    "                     'Decision_Tree__min_samples_leaf': list(range(40, 121, 5)),\n",
    "                     'Decision_Tree__max_depth' : list(range(1, 3, 1)),\n",
    "                     'Decision_Tree__splitter': ['best', 'random'],\n",
    "                     'Decision_Tree__criterion' :['gini', 'entropy', 'log_loss']}, \n",
    "                     area_under_precision_recall_curve_scorer,\n",
    "                     'area under precision recall curve',\n",
    "                     n_iter = 50)"
   ]
  },
  {
   "cell_type": "markdown",
   "metadata": {},
   "source": [
    "Even after trying many tree depths the only suitable non-underfitting or overfitting performance could be achieved only with a tree depth of 1."
   ]
  },
  {
   "cell_type": "code",
   "execution_count": 34,
   "metadata": {},
   "outputs": [
    {
     "name": "stdout",
     "output_type": "stream",
     "text": [
      "For model - Decision_Tree grid search:\n",
      "----------------------------------------------------------\n",
      "Best mean area under precision recall curve:\n",
      "Train set: 0.807\n",
      "Validation set: 0.804\n",
      "----------------------------------------------------------\n",
      "{'Decision_Tree__criterion': 'entropy', 'Decision_Tree__max_depth': 1, 'Decision_Tree__max_features': None, 'Decision_Tree__min_samples_leaf': 45, 'Decision_Tree__splitter': 'best'}\n"
     ]
    }
   ],
   "source": [
    "# Performing random search cross-validation\n",
    "\n",
    "best_params = find_best_cv_params(X_train,\n",
    "                                  Y_train,\n",
    "                                  Pipeline([('column_transformer', column_transformer), \n",
    "                                            ('pca', PCA(random_state = 42)),\n",
    "                                            ('standard_scaler', standard_scaler),\n",
    "                                            ('SMOTE_resample', SMOTE_resampler),\n",
    "                                            ('Decision_Tree', DecisionTreeClassifier(random_state = 123))]),                    \n",
    "                                  {'Decision_Tree__max_features': [None],\n",
    "                                   'Decision_Tree__min_samples_leaf': list(range(45, 86, 2)),\n",
    "                                   'Decision_Tree__max_depth' : list(range(1, 2, 1)),\n",
    "                                   'Decision_Tree__splitter': ['best'],\n",
    "                                   'Decision_Tree__criterion' :['entropy']}, \n",
    "                                  area_under_precision_recall_curve_scorer,\n",
    "                                  'area under precision recall curve',\n",
    "                                  search_type = 'grid')"
   ]
  },
  {
   "cell_type": "markdown",
   "metadata": {},
   "source": [
    "This is a huge boost up in performance. The performance is much better now compared to even logistic regression model."
   ]
  },
  {
   "cell_type": "markdown",
   "metadata": {},
   "source": [
    "Lets try decision tree without any column transformation for V1 to V28 columns. Since the model can adjust its complexity I think it shouldn't make as such any difference in performance due to the transformation and I want to see that for myself."
   ]
  },
  {
   "cell_type": "markdown",
   "metadata": {},
   "source": [
    "##### 8. Decision tree with SMOTE, PCA and without V1 to V28 transformations"
   ]
  },
  {
   "cell_type": "code",
   "execution_count": 35,
   "metadata": {},
   "outputs": [
    {
     "name": "stdout",
     "output_type": "stream",
     "text": [
      "For model - Decision_Tree random search:\n",
      "----------------------------------------------------------\n",
      "Best mean area under precision recall curve:\n",
      "Train set: 0.706\n",
      "Validation set: 0.694\n",
      "----------------------------------------------------------\n"
     ]
    },
    {
     "data": {
      "text/plain": [
       "{'Decision_Tree__splitter': 'best',\n",
       " 'Decision_Tree__min_samples_split': 80,\n",
       " 'Decision_Tree__min_samples_leaf': 10,\n",
       " 'Decision_Tree__max_features': None,\n",
       " 'Decision_Tree__max_depth': 2,\n",
       " 'Decision_Tree__criterion': 'entropy'}"
      ]
     },
     "execution_count": 35,
     "metadata": {},
     "output_type": "execute_result"
    }
   ],
   "source": [
    "# Performing random search cross-validation\n",
    "\n",
    "find_best_cv_params(X_train,\n",
    "                    Y_train,\n",
    "                    Pipeline([('column_transformer', column_transformer_2), \n",
    "                              ('pca', PCA(random_state = 42)),\n",
    "                              ('standard_scaler', standard_scaler),\n",
    "                              ('SMOTE_resample', SMOTE_resampler),\n",
    "                              ('Decision_Tree', DecisionTreeClassifier(random_state = 123))]),                    \n",
    "                    {'Decision_Tree__max_features': [None, 'sqrt', 'log2'],\n",
    "                     'Decision_Tree__min_samples_leaf': list(range(5, 101, 5)),\n",
    "                     'Decision_Tree__min_samples_split': list(range(5, 101, 5)),\n",
    "                     'Decision_Tree__max_depth' : list(range(1, 3, 1)),\n",
    "                     'Decision_Tree__splitter': ['best', 'random'],\n",
    "                     'Decision_Tree__criterion' :['gini', 'entropy', 'log_loss']}, \n",
    "                     area_under_precision_recall_curve_scorer,\n",
    "                     'area under precision recall curve',\n",
    "                     n_iter = 50)"
   ]
  },
  {
   "cell_type": "code",
   "execution_count": 36,
   "metadata": {},
   "outputs": [
    {
     "name": "stdout",
     "output_type": "stream",
     "text": [
      "For model - Decision_Tree grid search:\n",
      "----------------------------------------------------------\n",
      "Best mean area under precision recall curve:\n",
      "Train set: 0.706\n",
      "Validation set: 0.694\n",
      "----------------------------------------------------------\n",
      "{'Decision_Tree__criterion': 'entropy', 'Decision_Tree__max_depth': 2, 'Decision_Tree__max_features': None, 'Decision_Tree__min_samples_leaf': 1, 'Decision_Tree__min_samples_split': 70, 'Decision_Tree__splitter': 'best'}\n"
     ]
    }
   ],
   "source": [
    "# Performing grid search cross-validation\n",
    "\n",
    "best_params = find_best_cv_params(X_train,\n",
    "                                  Y_train,\n",
    "                                  Pipeline([('column_transformer', column_transformer_2), \n",
    "                                          ('pca', PCA(random_state = 42)),\n",
    "                                          ('standard_scaler', standard_scaler),\n",
    "                                          ('SMOTE_resample', SMOTE_resampler),\n",
    "                                          ('Decision_Tree', DecisionTreeClassifier(random_state = 123))]),                    \n",
    "                                  {'Decision_Tree__max_features': [None],\n",
    "                                  'Decision_Tree__min_samples_leaf': list(range(1, 21, 5)),\n",
    "                                  'Decision_Tree__min_samples_split': list(range(70, 91, 5)),\n",
    "                                  'Decision_Tree__max_depth' : list(range(1, 3, 1)),\n",
    "                                  'Decision_Tree__splitter': ['best'],\n",
    "                                  'Decision_Tree__criterion' : ['entropy']}, \n",
    "                                  area_under_precision_recall_curve_scorer,\n",
    "                                  'area under precision recall curve',\n",
    "                                  search_type = 'grid')"
   ]
  },
  {
   "cell_type": "markdown",
   "metadata": {},
   "source": [
    "The performance has decreased substantially. But this is contrary to the belief that decision trees are not influenced by the underlying distribution within the predictor features as decision trees try to split the data based on thresholds, even though you transform the variable the ordering of points stays same and the split obtained also stays same, kind of only the scale of the variable changes but not the choice of optimal splits. Maybe this happened due to introduction of PCA within the pipeline? Lets try that out."
   ]
  },
  {
   "cell_type": "markdown",
   "metadata": {},
   "source": [
    "##### 9. Decision tree with SMOTE and without V1 to V28 transformations"
   ]
  },
  {
   "cell_type": "code",
   "execution_count": 37,
   "metadata": {},
   "outputs": [
    {
     "name": "stdout",
     "output_type": "stream",
     "text": [
      "For model - Decision_Tree random search:\n",
      "----------------------------------------------------------\n",
      "Best mean area under precision recall curve:\n",
      "Train set: 0.659\n",
      "Validation set: 0.65\n",
      "----------------------------------------------------------\n"
     ]
    },
    {
     "data": {
      "text/plain": [
       "{'Decision_Tree__splitter': 'best',\n",
       " 'Decision_Tree__min_samples_split': 80,\n",
       " 'Decision_Tree__min_samples_leaf': 10,\n",
       " 'Decision_Tree__max_features': None,\n",
       " 'Decision_Tree__max_depth': 2,\n",
       " 'Decision_Tree__criterion': 'entropy'}"
      ]
     },
     "execution_count": 37,
     "metadata": {},
     "output_type": "execute_result"
    }
   ],
   "source": [
    "# Performing random search cross-validation\n",
    "\n",
    "find_best_cv_params(X_train,\n",
    "                    Y_train,\n",
    "                    Pipeline([('column_transformer', column_transformer_2), \n",
    "                              ('standard_scaler', standard_scaler),\n",
    "                              ('SMOTE_resample', SMOTE_resampler),\n",
    "                              ('Decision_Tree', DecisionTreeClassifier(random_state = 123))]),                    \n",
    "                    {'Decision_Tree__max_features': [None, 'sqrt', 'log2'],\n",
    "                     'Decision_Tree__min_samples_leaf': list(range(5, 101, 5)),\n",
    "                     'Decision_Tree__min_samples_split': list(range(5, 101, 5)),\n",
    "                     'Decision_Tree__max_depth' : list(range(1, 3, 1)),\n",
    "                     'Decision_Tree__splitter': ['best', 'random'],\n",
    "                     'Decision_Tree__criterion' :['gini', 'entropy', 'log_loss']}, \n",
    "                     area_under_precision_recall_curve_scorer,\n",
    "                     'area under precision recall curve',\n",
    "                     n_iter = 50)"
   ]
  },
  {
   "cell_type": "code",
   "execution_count": 38,
   "metadata": {},
   "outputs": [
    {
     "name": "stdout",
     "output_type": "stream",
     "text": [
      "For model - Decision_Tree grid search:\n",
      "----------------------------------------------------------\n",
      "Best mean area under precision recall curve:\n",
      "Train set: 0.659\n",
      "Validation set: 0.65\n",
      "----------------------------------------------------------\n",
      "{'Decision_Tree__criterion': 'entropy', 'Decision_Tree__max_depth': 2, 'Decision_Tree__max_features': None, 'Decision_Tree__min_samples_leaf': 60, 'Decision_Tree__min_samples_split': 55, 'Decision_Tree__splitter': 'best'}\n"
     ]
    }
   ],
   "source": [
    "# Performing grid search cross-validation\n",
    "\n",
    "best_params = find_best_cv_params(X_train,\n",
    "                                  Y_train,\n",
    "                                  Pipeline([('column_transformer', column_transformer_2), \n",
    "                                              ('standard_scaler', standard_scaler),\n",
    "                                              ('SMOTE_resample', SMOTE_resampler),\n",
    "                                              ('Decision_Tree', DecisionTreeClassifier(random_state = 123))]),                    \n",
    "                                  {'Decision_Tree__max_features': [None],\n",
    "                                   'Decision_Tree__min_samples_leaf': list(range(60, 101, 5)),\n",
    "                                   'Decision_Tree__min_samples_split': list(range(55, 96, 5)),\n",
    "                                   'Decision_Tree__max_depth' : list(range(2, 3, 1)),\n",
    "                                   'Decision_Tree__splitter': ['best'],\n",
    "                                   'Decision_Tree__criterion' :['entropy']}, \n",
    "                                   area_under_precision_recall_curve_scorer,\n",
    "                                   'area under precision recall curve',\n",
    "                                   search_type = 'grid')"
   ]
  },
  {
   "cell_type": "markdown",
   "metadata": {},
   "source": [
    "The performance is quite poor but its 0.044 less than when we did do PCA but it has improved compared to when we did have the transformations. So, the combination of having a normalization transformation and PCA has helped significantly boost the performance in this problem statement. PCA can help in reducing the piecewise approximation problem with decision trees but PCA relies on variance of the variables as well, when we do apply the cube root transformations the relative variance in between the predictor variabels changes and therefore, definitely the performance with and without the cube root transformation in presence of PCA will have different performances.    \n",
    "Last thing that I would like to try is how the performance will get affected if we didn't drop some of the columns that were identified through feature selection."
   ]
  },
  {
   "cell_type": "markdown",
   "metadata": {},
   "source": [
    "##### 10. Decision tree with SMOTE, PCA, and without dropping of columns"
   ]
  },
  {
   "cell_type": "code",
   "execution_count": 39,
   "metadata": {},
   "outputs": [],
   "source": [
    "column_transformer_3 = ColumnTransformer([('double_log_transform', double_log_transformer, double_log_transform_columns),\n",
    "                                          ('cube_root_transformer', cube_root_transformer, cube_root_transform_columns)],\n",
    "                                          remainder = 'passthrough')"
   ]
  },
  {
   "cell_type": "code",
   "execution_count": 40,
   "metadata": {},
   "outputs": [
    {
     "name": "stdout",
     "output_type": "stream",
     "text": [
      "For model - Decision_Tree random search:\n",
      "----------------------------------------------------------\n",
      "Best mean area under precision recall curve:\n",
      "Train set: 0.798\n",
      "Validation set: 0.792\n",
      "----------------------------------------------------------\n"
     ]
    },
    {
     "data": {
      "text/plain": [
       "{'Decision_Tree__splitter': 'best',\n",
       " 'Decision_Tree__min_samples_leaf': 75,\n",
       " 'Decision_Tree__max_features': None,\n",
       " 'Decision_Tree__max_depth': 1,\n",
       " 'Decision_Tree__criterion': 'entropy'}"
      ]
     },
     "execution_count": 40,
     "metadata": {},
     "output_type": "execute_result"
    }
   ],
   "source": [
    "# Performing random search cross-validation\n",
    "\n",
    "find_best_cv_params(X_train,\n",
    "                    Y_train,\n",
    "                    Pipeline([('column_transformer', column_transformer_3), \n",
    "                              ('pca', PCA(random_state = 42)),\n",
    "                              ('standard_scaler', standard_scaler),\n",
    "                              ('SMOTE_resample', SMOTE_resampler),\n",
    "                              ('Decision_Tree', DecisionTreeClassifier(random_state = 123))]),                    \n",
    "                    {'Decision_Tree__max_features': [None, 'sqrt', 'log2'],\n",
    "                     'Decision_Tree__min_samples_leaf': list(range(40, 121, 5)),\n",
    "                     'Decision_Tree__max_depth' : list(range(1, 3, 1)),\n",
    "                     'Decision_Tree__splitter': ['best', 'random'],\n",
    "                     'Decision_Tree__criterion' :['gini', 'entropy', 'log_loss']}, \n",
    "                    area_under_precision_recall_curve_scorer,\n",
    "                    'area under precision recall curve',\n",
    "                    n_iter = 50)"
   ]
  },
  {
   "cell_type": "code",
   "execution_count": 41,
   "metadata": {},
   "outputs": [
    {
     "name": "stdout",
     "output_type": "stream",
     "text": [
      "For model - Decision_Tree grid search:\n",
      "----------------------------------------------------------\n",
      "Best mean area under precision recall curve:\n",
      "Train set: 0.798\n",
      "Validation set: 0.792\n",
      "----------------------------------------------------------\n",
      "{'Decision_Tree__criterion': 'entropy', 'Decision_Tree__max_depth': 1, 'Decision_Tree__max_features': None, 'Decision_Tree__min_samples_leaf': 60, 'Decision_Tree__splitter': 'best'}\n"
     ]
    }
   ],
   "source": [
    "# Performing grid search cross-validation\n",
    "\n",
    "best_params = find_best_cv_params(X_train,\n",
    "                                  Y_train,\n",
    "                                  Pipeline([('column_transformer', column_transformer_3), \n",
    "                                              ('pca', PCA(random_state = 42)),\n",
    "                                              ('standard_scaler', standard_scaler),\n",
    "                                              ('SMOTE_resample', SMOTE_resampler),\n",
    "                                              ('Decision_Tree', DecisionTreeClassifier(random_state = 123))]),                    \n",
    "                                  {'Decision_Tree__max_features': [None],\n",
    "                                      'Decision_Tree__min_samples_leaf': list(range(60, 91, 5)),\n",
    "                                      'Decision_Tree__max_depth' : list(range(1, 3, 1)),\n",
    "                                      'Decision_Tree__splitter': ['best'],\n",
    "                                      'Decision_Tree__criterion' :['entropy']}, \n",
    "                                  area_under_precision_recall_curve_scorer,\n",
    "                                  'area under precision recall curve',\n",
    "                                  search_type = 'grid')"
   ]
  },
  {
   "cell_type": "markdown",
   "metadata": {},
   "source": [
    "The performance has become worse from before indicating that our dropping of these columns based on statistical tests was benefecial. This could have happened because having the variables that are not useful introduces noise within our dataset and no meaningful pattern."
   ]
  },
  {
   "cell_type": "markdown",
   "metadata": {},
   "source": [
    "Also, the max depth of the tree is just 1 that means after going through the column transformations and PCA we have been able to reduce the columns to one main column which can help in identifying whether a transaction is fraudulent or not just based on a single threshold. If we try to understand what transformations we have applied then its first non-linearly transforming the variables using double log or cube root transforamtions and then taking a weighted sum of them using PCA. So, its essentially like making a hyperplane using these transformed variables and based on a threshold deciding whether a given point lies on one side or other side of this hyperplane. That's why logistic regression could perform quite well."
   ]
  },
  {
   "cell_type": "markdown",
   "metadata": {},
   "source": [
    "##### Conclusion of experimentation"
   ]
  },
  {
   "cell_type": "markdown",
   "metadata": {},
   "source": [
    "**In conlusion of the experimentation:**  \n",
    "- Normalizaing transformations or skewness reducing transformations for V1 to V28 columns are seen to be effective when used with PCA transformation for decision tree model. But the transformations for amount column is slightly benefecial only.  \n",
    "- For logistic regression model howerver the V1 to V28 column transformations proved to be deterimental and this could be due to low bias nature of the model and outliers in data.  \n",
    "- Our feature selection did stand up to its reputation and actually proved to be benfecial.   \n",
    "- PCA helped improve performance of tree models."
   ]
  },
  {
   "cell_type": "markdown",
   "metadata": {},
   "source": [
    "**Going on ahead:**  \n",
    "- Will use the conclusions from above to start training our final models which can then ultimately be evaluated upon our unseen test set.  \n",
    "- I will try logistic regression, Decision tree and XGBoost."
   ]
  },
  {
   "cell_type": "markdown",
   "metadata": {},
   "source": [
    "#### Final training"
   ]
  },
  {
   "cell_type": "markdown",
   "metadata": {},
   "source": [
    "##### 1. Logistic Regression"
   ]
  },
  {
   "cell_type": "markdown",
   "metadata": {},
   "source": [
    "The logistic regression model worked well without the cube root transformations so I will use that here."
   ]
  },
  {
   "cell_type": "code",
   "execution_count": 42,
   "metadata": {},
   "outputs": [],
   "source": [
    "# Defining our final column transformer based on our conlusions from experimentation\n",
    "column_transformer_final = ColumnTransformer([('double_log_transform', double_log_transformer, double_log_transform_columns),\n",
    "                                              ('drop_columns', 'drop', drop_columns)],\n",
    "                                              remainder = 'passthrough')"
   ]
  },
  {
   "cell_type": "code",
   "execution_count": 43,
   "metadata": {},
   "outputs": [
    {
     "name": "stdout",
     "output_type": "stream",
     "text": [
      "For model - Logistic_Regression random search:\n",
      "----------------------------------------------------------\n",
      "Best mean area under precision recall curve:\n",
      "Train set: 0.76\n",
      "Validation set: 0.757\n",
      "----------------------------------------------------------\n"
     ]
    },
    {
     "data": {
      "text/plain": [
       "{'Logistic_Regression__solver': 'sag',\n",
       " 'Logistic_Regression__penalty': 'l2',\n",
       " 'Logistic_Regression__l1_ratio': np.float64(0.30000000000000004),\n",
       " 'Logistic_Regression__C': np.float64(10000.0)}"
      ]
     },
     "execution_count": 43,
     "metadata": {},
     "output_type": "execute_result"
    }
   ],
   "source": [
    "# Performing random search cross-validation\n",
    "\n",
    "find_best_cv_params(X_train,\n",
    "                    Y_train,\n",
    "                    Pipeline([('column_transformer', column_transformer_final),\n",
    "                              ('standard_scaler', standard_scaler),\n",
    "                              ('SMOTE_resample', SMOTE_resampler),\n",
    "                              ('Logistic_Regression', LogisticRegression(n_jobs = -1, random_state = 123))]),\n",
    "                    {'Logistic_Regression__penalty' : ['l1', 'l2', 'elasticnet', None],\n",
    "                     'Logistic_Regression__C' : np.logspace(-4, 4, 20), \n",
    "                     'Logistic_Regression__solver': ['lbfgs', 'newton-cg', 'sag', 'saga'],\n",
    "                     'Logistic_Regression__l1_ratio': np.linspace(0.1, 1, 9, endpoint = False)}, \n",
    "                    area_under_precision_recall_curve_scorer,\n",
    "                    'area under precision recall curve',\n",
    "                    n_iter = 50)"
   ]
  },
  {
   "cell_type": "markdown",
   "metadata": {},
   "source": [
    "While doing final trainings, I will try to store the model and best grid search parameters so that I can use them later on for final training on the full train set, avaluation on test set and also, for my end-to-end deployment."
   ]
  },
  {
   "cell_type": "code",
   "execution_count": 44,
   "metadata": {},
   "outputs": [],
   "source": [
    "models = []"
   ]
  },
  {
   "cell_type": "code",
   "execution_count": 45,
   "metadata": {},
   "outputs": [],
   "source": [
    "models.append({'name': 'Logistic_Regression', 'model': LogisticRegression(n_jobs = -1, random_state = 123)})"
   ]
  },
  {
   "cell_type": "code",
   "execution_count": 46,
   "metadata": {},
   "outputs": [
    {
     "name": "stdout",
     "output_type": "stream",
     "text": [
      "For model - Logistic_Regression grid search:\n",
      "----------------------------------------------------------\n",
      "Best mean area under precision recall curve:\n",
      "Train set: 0.76\n",
      "Validation set: 0.757\n",
      "----------------------------------------------------------\n",
      "{'Logistic_Regression__C': np.float64(1000.0), 'Logistic_Regression__penalty': 'l2', 'Logistic_Regression__solver': 'sag'}\n"
     ]
    }
   ],
   "source": [
    "# perform grid search cross-validation\n",
    "\n",
    "models[0]['best_params'] = find_best_cv_params(X_train,\n",
    "                                               Y_train,\n",
    "                                               Pipeline([('column_transformer', column_transformer_final),\n",
    "                                                         ('standard_scaler', standard_scaler),\n",
    "                                                         ('SMOTE_resample', SMOTE_resampler),\n",
    "                                                         ('Logistic_Regression', models[0]['model'])]),\n",
    "                                               {'Logistic_Regression__penalty' : ['l2'],\n",
    "                                                'Logistic_Regression__solver': ['sag'],\n",
    "                                                'Logistic_Regression__C' : np.logspace(3, 5, 20)}, \n",
    "                                               area_under_precision_recall_curve_scorer,\n",
    "                                               'area under precision recall curve',\n",
    "                                               search_type = 'grid')"
   ]
  },
  {
   "cell_type": "code",
   "execution_count": 47,
   "metadata": {},
   "outputs": [],
   "source": [
    "models[0]['pre-processor'] = Pipeline([('column_transformer', column_transformer_final),\n",
    "                                       ('standard_scaler', standard_scaler)])\n",
    "\n",
    "models[0]['resampler'] = SMOTE(random_state = 42)\n",
    "\n",
    "models[0]['best_params'] = {key.split(\"__\", 1)[-1]:value for key, value in models[0]['best_params'].items()}"
   ]
  },
  {
   "cell_type": "markdown",
   "metadata": {},
   "source": [
    "##### 2. Decision tree"
   ]
  },
  {
   "cell_type": "markdown",
   "metadata": {},
   "source": [
    "Taking column transformer for decision tree as per the experimentation that we have done."
   ]
  },
  {
   "cell_type": "code",
   "execution_count": 48,
   "metadata": {},
   "outputs": [],
   "source": [
    "column_transformer_final = ColumnTransformer([('double_log_transform', double_log_transformer, double_log_transform_columns),\n",
    "                                              ('cube_root_transformer', cube_root_transformer, cube_root_transform_columns),\n",
    "                                              ('drop_columns', 'drop', drop_columns)],\n",
    "                                              remainder = 'passthrough')"
   ]
  },
  {
   "cell_type": "code",
   "execution_count": 49,
   "metadata": {},
   "outputs": [
    {
     "name": "stdout",
     "output_type": "stream",
     "text": [
      "For model - Decision_Tree random search:\n",
      "----------------------------------------------------------\n",
      "Best mean area under precision recall curve:\n",
      "Train set: 0.807\n",
      "Validation set: 0.804\n",
      "----------------------------------------------------------\n"
     ]
    },
    {
     "data": {
      "text/plain": [
       "{'Decision_Tree__splitter': 'best',\n",
       " 'Decision_Tree__min_samples_leaf': 75,\n",
       " 'Decision_Tree__max_features': None,\n",
       " 'Decision_Tree__max_depth': 1,\n",
       " 'Decision_Tree__criterion': 'entropy'}"
      ]
     },
     "execution_count": 49,
     "metadata": {},
     "output_type": "execute_result"
    }
   ],
   "source": [
    "# Performing random search cross-validation\n",
    "\n",
    "find_best_cv_params(X_train,\n",
    "                    Y_train,\n",
    "                    Pipeline([('column_transformer', column_transformer_final), \n",
    "                              ('pca', PCA(random_state = 42)),\n",
    "                              ('standard_scaler', standard_scaler),\n",
    "                              ('SMOTE_resample', SMOTE_resampler),\n",
    "                              ('Decision_Tree', DecisionTreeClassifier(random_state = 123))]),                    \n",
    "                    {'Decision_Tree__max_features': [None, 'sqrt', 'log2'],\n",
    "                     'Decision_Tree__min_samples_leaf': list(range(40, 121, 5)),\n",
    "                     'Decision_Tree__max_depth' : list(range(1, 3, 1)),\n",
    "                     'Decision_Tree__splitter': ['best', 'random'],\n",
    "                     'Decision_Tree__criterion' :['gini', 'entropy', 'log_loss']}, \n",
    "                    area_under_precision_recall_curve_scorer,\n",
    "                    'area under precision recall curve',\n",
    "                    n_iter = 50)"
   ]
  },
  {
   "cell_type": "code",
   "execution_count": 50,
   "metadata": {},
   "outputs": [],
   "source": [
    "models.append({'name': 'Decision_Tree',\n",
    "               'model': DecisionTreeClassifier(random_state = 123)})"
   ]
  },
  {
   "cell_type": "code",
   "execution_count": 51,
   "metadata": {},
   "outputs": [
    {
     "name": "stdout",
     "output_type": "stream",
     "text": [
      "For model - Decision_Tree grid search:\n",
      "----------------------------------------------------------\n",
      "Best mean area under precision recall curve:\n",
      "Train set: 0.807\n",
      "Validation set: 0.804\n",
      "----------------------------------------------------------\n",
      "{'Decision_Tree__criterion': 'entropy', 'Decision_Tree__max_depth': 1, 'Decision_Tree__max_features': None, 'Decision_Tree__min_samples_leaf': 40, 'Decision_Tree__splitter': 'best'}\n"
     ]
    }
   ],
   "source": [
    "# perform grid search cross-validation\n",
    "\n",
    "models[1]['best_params'] = find_best_cv_params(X_train,\n",
    "                                               Y_train,\n",
    "                                               Pipeline([('column_transformer', column_transformer_final), \n",
    "                                                         ('pca', PCA(random_state = 42)),\n",
    "                                                         ('standard_scaler', standard_scaler),\n",
    "                                                         ('SMOTE_resample', SMOTE_resampler),\n",
    "                                                         ('Decision_Tree', models[1]['model'])]),\n",
    "                                              {'Decision_Tree__max_features': [None],\n",
    "                                               'Decision_Tree__min_samples_leaf': list(range(40, 121, 5)),\n",
    "                                               'Decision_Tree__max_depth' : list(range(1, 3, 1)),\n",
    "                                               'Decision_Tree__splitter': ['best'],\n",
    "                                               'Decision_Tree__criterion' :['entropy']}, \n",
    "                                               area_under_precision_recall_curve_scorer,\n",
    "                                               'area under precision recall curve',\n",
    "                                               search_type = 'grid')"
   ]
  },
  {
   "cell_type": "code",
   "execution_count": 52,
   "metadata": {},
   "outputs": [],
   "source": [
    "models[1]['pre-processor'] = Pipeline([('column_transformer', column_transformer_final), \n",
    "                                       ('pca', PCA(random_state = 42)),\n",
    "                                       ('standard_scaler', standard_scaler)])\n",
    "\n",
    "models[1]['resampler'] = SMOTE(random_state = 42)\n",
    "\n",
    "models[1]['best_params'] = {key.split(\"__\", 1)[-1]:value for key, value in models[1]['best_params'].items()}"
   ]
  },
  {
   "cell_type": "markdown",
   "metadata": {},
   "source": [
    "##### 3. XGBoost"
   ]
  },
  {
   "cell_type": "code",
   "execution_count": 53,
   "metadata": {},
   "outputs": [
    {
     "name": "stdout",
     "output_type": "stream",
     "text": [
      "For model - XGBoost random search:\n",
      "----------------------------------------------------------\n",
      "Best mean area under precision recall curve:\n",
      "Train set: 0.771\n",
      "Validation set: 0.762\n",
      "----------------------------------------------------------\n"
     ]
    },
    {
     "data": {
      "text/plain": [
       "{'XGBoost__subsample': 0.9,\n",
       " 'XGBoost__n_estimators': 3,\n",
       " 'XGBoost__max_depth': 2,\n",
       " 'XGBoost__learning_rate': np.float64(0.08947368421052632),\n",
       " 'XGBoost__lambda': np.float64(166.81005372000558),\n",
       " 'XGBoost__gamma': 0.01,\n",
       " 'XGBoost__colsample_bytree': 1.0}"
      ]
     },
     "execution_count": 53,
     "metadata": {},
     "output_type": "execute_result"
    }
   ],
   "source": [
    "# Performing random search cross-validation\n",
    "\n",
    "find_best_cv_params(X_train,\n",
    "                    Y_train,\n",
    "                    Pipeline([('column_transformer', column_transformer_final), \n",
    "                              ('pca', PCA(random_state = 42)),\n",
    "                              ('standard_scaler', standard_scaler),\n",
    "                              ('SMOTE_resample', SMOTE_resampler),\n",
    "                              ('XGBoost',XGBClassifier(objective = 'binary:logistic', silent = True, seed = 123, error_score = 'raise'))]),                    \n",
    "                    {'XGBoost__gamma': [0.001, 0.01, 0.5, 1, 1.5, 2, 5, 10, 15],\n",
    "                     'XGBoost__learning_rate' : np.linspace(0.05, 0.3, 20), \n",
    "                     'XGBoost__n_estimators' : list(range(2, 4)), \n",
    "                     'XGBoost__subsample': [0.4, 0.5, 0.6, 0.7, 0.8, 0.9],\n",
    "                     'XGBoost__colsample_bytree': [0.4, 0.5, 0.6, 0.7, 0.8, 0.9, 1.0],\n",
    "                     'XGBoost__lambda': np.logspace(-4, 4, 10),\n",
    "                     'XGBoost__max_depth': [1, 2,]},\n",
    "                    area_under_precision_recall_curve_scorer,\n",
    "                    'area under precision recall curve',\n",
    "                    n_iter = 50)"
   ]
  },
  {
   "cell_type": "code",
   "execution_count": 54,
   "metadata": {},
   "outputs": [],
   "source": [
    "models.append({'name': 'XGBoost',\n",
    "               'model': XGBClassifier(objective = 'binary:logistic', n_jobs = -1, silent = True, seed = 123, error_score = 'raise')})"
   ]
  },
  {
   "cell_type": "code",
   "execution_count": 55,
   "metadata": {},
   "outputs": [
    {
     "name": "stdout",
     "output_type": "stream",
     "text": [
      "For model - XGBoost grid search:\n",
      "----------------------------------------------------------\n",
      "Best mean area under precision recall curve:\n",
      "Train set: 0.775\n",
      "Validation set: 0.766\n",
      "----------------------------------------------------------\n",
      "{'XGBoost__colsample_bytree': 0.9, 'XGBoost__gamma': 0.001, 'XGBoost__lambda': 200, 'XGBoost__learning_rate': 0.045, 'XGBoost__max_depth': 2, 'XGBoost__n_estimators': 2, 'XGBoost__subsample': 0.9}\n"
     ]
    }
   ],
   "source": [
    "# perform grid search cross-validation\n",
    "\n",
    "models[2]['best_params'] = find_best_cv_params(X_train,\n",
    "                                               Y_train,\n",
    "                                               Pipeline([('column_transformer', column_transformer_final), \n",
    "                                                         ('pca', PCA(random_state = 42)),\n",
    "                                                         ('standard_scaler', standard_scaler),\n",
    "                                                         ('SMOTE_resample', SMOTE_resampler),\n",
    "                                                         ('XGBoost', models[2]['model'])]),\n",
    "                                               {'XGBoost__gamma': [0.001, 0.01, 0.1],\n",
    "                                                'XGBoost__learning_rate' : [0.045, 0.0895, 0.1350], \n",
    "                                                'XGBoost__n_estimators' : list(range(2, 4)), \n",
    "                                                'XGBoost__subsample': [0.85, 0.9, 0.95],\n",
    "                                                'XGBoost__colsample_bytree': [0.9, 0.95, 1.0],\n",
    "                                                'XGBoost__lambda': [100, 166.81, 200],\n",
    "                                                'XGBoost__max_depth': [2]},\n",
    "                                               area_under_precision_recall_curve_scorer,\n",
    "                                               'area under precision recall curve',\n",
    "                                               search_type = 'grid')"
   ]
  },
  {
   "cell_type": "code",
   "execution_count": 61,
   "metadata": {},
   "outputs": [],
   "source": [
    "models[2]['pre-processor'] = Pipeline([('column_transformer', column_transformer_final), \n",
    "                                       ('pca', PCA(random_state = 42)),\n",
    "                                       ('standard_scaler', standard_scaler)])\n",
    "\n",
    "models[2]['resampler'] = SMOTE(random_state = 42)\n",
    "\n",
    "models[2]['best_params'] = {key.split(\"__\", 1)[-1]:value for key, value in models[2]['best_params'].items()}"
   ]
  },
  {
   "cell_type": "markdown",
   "metadata": {},
   "source": [
    "#### Saving models data"
   ]
  },
  {
   "cell_type": "code",
   "execution_count": 57,
   "metadata": {},
   "outputs": [],
   "source": [
    "import pickle \n",
    "import dill\n",
    "with open('models/models_data.pkl', 'wb') as file:  \n",
    "    pickle.dump(models, file)"
   ]
  },
  {
   "cell_type": "markdown",
   "metadata": {},
   "source": [
    "#### Testing of the models"
   ]
  },
  {
   "cell_type": "code",
   "execution_count": 58,
   "metadata": {},
   "outputs": [],
   "source": [
    "df_test = pd.read_csv('Data/creditcard_test.csv')"
   ]
  },
  {
   "cell_type": "code",
   "execution_count": 59,
   "metadata": {},
   "outputs": [],
   "source": [
    "X_test, Y_test = df_test.iloc[:,:-1], df_test.iloc[:,-1]"
   ]
  },
  {
   "cell_type": "code",
   "execution_count": 60,
   "metadata": {},
   "outputs": [
    {
     "name": "stdout",
     "output_type": "stream",
     "text": [
      "Final model training and evaluation:\n",
      "----------------------------------------------------------\n",
      "For model - Logistic Regression:\n",
      "----------------------------------------------------------\n",
      "Area under precision-recall curve:\n",
      "Train set: 0.761\n",
      "Test set: 0.727\n",
      "----------------------------------------------------------\n",
      "For model - Decision Tree:\n",
      "----------------------------------------------------------\n",
      "Area under precision-recall curve:\n",
      "Train set: 0.806\n",
      "Test set: 0.816\n",
      "----------------------------------------------------------\n",
      "For model - XGBoost:\n",
      "----------------------------------------------------------\n",
      "Area under precision-recall curve:\n",
      "Train set: 0.772\n",
      "Test set: 0.759\n",
      "----------------------------------------------------------\n"
     ]
    }
   ],
   "source": [
    "final_pre_processor, final_model = train_and_evaluate_models(models, X_train, Y_train, X_test, Y_test)"
   ]
  },
  {
   "cell_type": "markdown",
   "metadata": {},
   "source": [
    "Logistic regression seems to be overfitting quite a lot."
   ]
  },
  {
   "cell_type": "markdown",
   "metadata": {},
   "source": [
    "#### Deeper dive into Decision tree model"
   ]
  },
  {
   "cell_type": "markdown",
   "metadata": {},
   "source": [
    "##### Decision tree graph"
   ]
  },
  {
   "cell_type": "code",
   "execution_count": 68,
   "metadata": {},
   "outputs": [
    {
     "data": {
      "image/png": "[encoded data removed]",
      "text/plain": [
       "<IPython.core.display.Image object>"
      ]
     },
     "metadata": {},
     "output_type": "display_data"
    }
   ],
   "source": [
    "plot_decision_tree(final_model, target_classes = ['Genuine', 'Fraud'])"
   ]
  },
  {
   "cell_type": "markdown",
   "metadata": {},
   "source": [
    "We can observe that based on a transformed variable x[24] and the threshold of -5.769. The model is classifying points into fraud if the value is lesser or equal to that otherwise they are being classified as genuine. The entropy of genuine leaf is quite high and this is expected I guess as many fraudulent trasnsaction can easily be genuine also, fraud trasnsactions doesn't always have to be significantly different from genuine ones.  \n",
    "What is this x[24] though? Can we take a closer look?"
   ]
  },
  {
   "cell_type": "markdown",
   "metadata": {},
   "source": [
    "##### Feature importance"
   ]
  },
  {
   "cell_type": "code",
   "execution_count": 80,
   "metadata": {},
   "outputs": [
    {
     "data": {
      "text/plain": [
       "[('column_transformer',\n",
       "  ColumnTransformer(remainder='passthrough',\n",
       "                    transformers=[('double_log_transform',\n",
       "                                   FunctionTransformer(feature_names_out='one-to-one',\n",
       "                                                       func=<function double_log_transform at 0x0000020D3FA916C0>),\n",
       "                                   ['Amount']),\n",
       "                                  ('cube_root_transformer',\n",
       "                                   FunctionTransformer(feature_names_out='one-to-one',\n",
       "                                                       func=<function cube_root_transform at 0x0000020D3FA931A0>),\n",
       "                                   ['V1', 'V2', 'V3', 'V4', 'V5', 'V6', 'V7',\n",
       "                                    'V8', 'V9', 'V10', 'V11', 'V12', 'V14', 'V16',\n",
       "                                    'V17', 'V18', 'V19', 'V20', 'V21', 'V22',\n",
       "                                    'V24', 'V25', 'V26', 'V27', 'V28']),\n",
       "                                  ('drop_columns', 'drop',\n",
       "                                   ['V13', 'V15', 'V23'])])),\n",
       " ('pca', PCA(random_state=42)),\n",
       " ('standard_scaler', StandardScaler())]"
      ]
     },
     "execution_count": 80,
     "metadata": {},
     "output_type": "execute_result"
    }
   ],
   "source": [
    "final_pre_processor.steps"
   ]
  },
  {
   "cell_type": "code",
   "execution_count": 70,
   "metadata": {},
   "outputs": [],
   "source": [
    "fitted_pca = final_pre_processor.steps[1][1]\n"
   ]
  },
  {
   "cell_type": "code",
   "execution_count": 79,
   "metadata": {},
   "outputs": [
    {
     "data": {
      "text/plain": [
       "array([ 1.29817886e-02,  6.94346328e-02, -1.47660031e-01,  1.72070009e-01,\n",
       "       -1.09473769e-01,  7.61255866e-02,  7.97721183e-02,  2.94637471e-01,\n",
       "       -1.05212775e-02,  8.32022715e-02,  2.11913978e-01, -2.07920242e-01,\n",
       "        3.16416662e-01,  2.99664177e-01,  3.34048473e-01,  4.28690894e-01,\n",
       "        1.62898132e-01, -3.01339755e-02,  7.34720984e-03, -3.84549632e-01,\n",
       "        2.50653814e-01,  2.47230312e-02, -2.18530974e-02, -2.13919488e-02,\n",
       "        8.11782532e-02, -7.64874070e-02, -2.46610413e-07])"
      ]
     },
     "execution_count": 79,
     "metadata": {},
     "output_type": "execute_result"
    }
   ],
   "source": [
    "fitted_pca.components_[24]"
   ]
  },
  {
   "cell_type": "markdown",
   "metadata": {},
   "source": [
    "This should correspond to the x[24] feature that we saw in the decision tree and we can see the scaling coefficients of our predictor features which were used to linearly combine them to yield x[24]. If we had standard scaling before PCA then these coefficients would have directly meant that these coefficients highlight feature importances but the case is not so as whats going into the PCA are features which are on different scale. But we can somewhat compare V1 to V28 as they have similar scale but time and amount are on totally different scales. Maybe one option could be to add one standard scaler before PCA as well or we could just divide the coefficients by standard deviation of each variable after column transformation, then these scaled coefficients should correspond to feature importance."
   ]
  },
  {
   "cell_type": "code",
   "execution_count": 82,
   "metadata": {},
   "outputs": [],
   "source": [
    "fitted_transformer = final_pre_processor.steps[0][1]"
   ]
  },
  {
   "cell_type": "code",
   "execution_count": 87,
   "metadata": {},
   "outputs": [],
   "source": [
    "feature_names = [string_obj.split(\"__\")[-1] for string_obj in fitted_transformer.get_feature_names_out()]"
   ]
  },
  {
   "cell_type": "code",
   "execution_count": 90,
   "metadata": {},
   "outputs": [],
   "source": [
    "x24_coefficients = fitted_pca.components_[24]"
   ]
  },
  {
   "cell_type": "code",
   "execution_count": 107,
   "metadata": {},
   "outputs": [
    {
     "data": {
      "image/png": "[encoded data removed]",
      "text/plain": [
       "<Figure size 640x480 with 1 Axes>"
      ]
     },
     "metadata": {},
     "output_type": "display_data"
    }
   ],
   "source": [
    "sns.barplot(x = np.abs(x24_coefficients), y = feature_names, orient = 'h')\n",
    "plt.xlabel('Absolute Coefficients')\n",
    "plt.ylabel('Features')\n",
    "plt.title('Features vs PCA coefficents');"
   ]
  },
  {
   "cell_type": "markdown",
   "metadata": {},
   "source": [
    "Lets try scaling these coefficients with the standard deviation of each variable."
   ]
  },
  {
   "cell_type": "code",
   "execution_count": 104,
   "metadata": {},
   "outputs": [],
   "source": [
    "X_std_after_transform = np.std(fitted_transformer.transform(X_train), axis = 0)"
   ]
  },
  {
   "cell_type": "code",
   "execution_count": 105,
   "metadata": {},
   "outputs": [
    {
     "data": {
      "image/png": "[encoded data removed]",
      "text/plain": [
       "<Figure size 640x480 with 1 Axes>"
      ]
     },
     "metadata": {},
     "output_type": "display_data"
    }
   ],
   "source": [
    "sns.barplot(x = np.abs(x24_coefficients/X_std_after_transform), y = feature_names, orient = 'h')\n",
    "plt.xlabel('Absolute scaled coefficeints')\n",
    "plt.ylabel('Features')\n",
    "plt.title('Feature Importance');"
   ]
  },
  {
   "cell_type": "markdown",
   "metadata": {},
   "source": [
    "Here, we can observe that V21 and V17 have the maximum effect on the obtained feature. While Time and V20 have the least importance."
   ]
  },
  {
   "cell_type": "markdown",
   "metadata": {},
   "source": [
    "##### Precision-Recall curve"
   ]
  },
  {
   "cell_type": "code",
   "execution_count": 109,
   "metadata": {},
   "outputs": [
    {
     "data": {
      "image/png": "[encoded data removed]",
      "text/plain": [
       "<Figure size 640x480 with 1 Axes>"
      ]
     },
     "metadata": {},
     "output_type": "display_data"
    }
   ],
   "source": [
    "X_train_transformed = final_pre_processor.transform(X_train)\n",
    "Y_train_pred = final_model.predict_proba(X_train_transformed)\n",
    "\n",
    "precision, recall, _ = precision_recall_curve(Y_train, Y_train_pred[:, 1])\n",
    "\n",
    "sns.lineplot(x = recall, y = precision)\n",
    "plt.xlabel('Recall')\n",
    "plt.ylabel('Precision')\n",
    "plt.title('Precision-recall curve');"
   ]
  },
  {
   "cell_type": "markdown",
   "metadata": {},
   "source": [
    "We can notice that there is a problem with decision tree as it cannot predict continuously varying probabilities in between 0 to 1. Based on our decision tree plot we can observe, it gives a fixed and same probability to each point when these are lying on the same side of decision boundary. It doesn't matter if the points are far or close to decision boundaries, the probaility assigned will be same. That's why such a model might not be appropriate if we want to fine tune precision-recall as per our need by adjusting probability threshold."
   ]
  },
  {
   "cell_type": "markdown",
   "metadata": {},
   "source": [
    "##### Comparison with a decision tree model without any feature engineering or selection"
   ]
  },
  {
   "cell_type": "markdown",
   "metadata": {},
   "source": [
    "Lastly, I would like to compare how much the performance of the decision tree model has improved due to our feature engineering and feature selection initiatives."
   ]
  },
  {
   "cell_type": "markdown",
   "metadata": {},
   "source": [
    "I will just include SMOTE and standard scaler but no column transformation and PCA."
   ]
  },
  {
   "cell_type": "code",
   "execution_count": 110,
   "metadata": {},
   "outputs": [
    {
     "name": "stdout",
     "output_type": "stream",
     "text": [
      "For model - Decision_Tree random search:\n",
      "----------------------------------------------------------\n",
      "Best mean area under precision recall curve:\n",
      "Train set: 0.658\n",
      "Validation set: 0.646\n",
      "----------------------------------------------------------\n"
     ]
    },
    {
     "data": {
      "text/plain": [
       "{'Decision_Tree__splitter': 'best',\n",
       " 'Decision_Tree__min_samples_leaf': 75,\n",
       " 'Decision_Tree__max_features': None,\n",
       " 'Decision_Tree__max_depth': 2,\n",
       " 'Decision_Tree__criterion': 'entropy'}"
      ]
     },
     "execution_count": 110,
     "metadata": {},
     "output_type": "execute_result"
    }
   ],
   "source": [
    "# Performing random search cross-validation\n",
    "\n",
    "find_best_cv_params(X_train,\n",
    "                    Y_train,\n",
    "                    Pipeline([('standard_scaler', standard_scaler),\n",
    "                              ('SMOTE_resample', SMOTE_resampler),\n",
    "                              ('Decision_Tree', DecisionTreeClassifier(random_state = 123))]),                    \n",
    "                    {'Decision_Tree__max_features': [None, 'sqrt', 'log2'],\n",
    "                     'Decision_Tree__min_samples_leaf': list(range(40, 121, 5)),\n",
    "                     'Decision_Tree__max_depth' : list(range(1, 3, 1)),\n",
    "                     'Decision_Tree__splitter': ['best', 'random'],\n",
    "                     'Decision_Tree__criterion' :['gini', 'entropy', 'log_loss']}, \n",
    "                     area_under_precision_recall_curve_scorer,\n",
    "                     'area under precision recall curve',\n",
    "                     n_iter = 50)"
   ]
  },
  {
   "cell_type": "code",
   "execution_count": 111,
   "metadata": {},
   "outputs": [
    {
     "name": "stdout",
     "output_type": "stream",
     "text": [
      "For model - Decision_Tree grid search:\n",
      "----------------------------------------------------------\n",
      "Best mean area under precision recall curve:\n",
      "Train set: 0.652\n",
      "Validation set: 0.646\n",
      "----------------------------------------------------------\n",
      "{'Decision_Tree__criterion': 'entropy', 'Decision_Tree__max_depth': 2, 'Decision_Tree__max_features': None, 'Decision_Tree__min_samples_leaf': 55, 'Decision_Tree__splitter': 'best'}\n"
     ]
    }
   ],
   "source": [
    "# Performing grid search cross-validation\n",
    "\n",
    "best_params = find_best_cv_params(X_train,\n",
    "                                  Y_train,\n",
    "                                  Pipeline([('standard_scaler', standard_scaler),\n",
    "                                              ('SMOTE_resample', SMOTE_resampler),\n",
    "                                              ('Decision_Tree', DecisionTreeClassifier(random_state = 123))]),                    \n",
    "                                  {'Decision_Tree__max_features': [None],\n",
    "                                   'Decision_Tree__min_samples_leaf': list(range(55, 96, 2)),\n",
    "                                   'Decision_Tree__max_depth' : list(range(1, 3, 1)),\n",
    "                                   'Decision_Tree__splitter': ['best'],\n",
    "                                   'Decision_Tree__criterion' :['entropy']}, \n",
    "                                   area_under_precision_recall_curve_scorer,\n",
    "                                   'area under precision recall curve',\n",
    "                                   search_type = 'grid')"
   ]
  },
  {
   "cell_type": "markdown",
   "metadata": {},
   "source": [
    "Comparing to Decision tree with SMOTE and PCA in experimentation section, the performance has increased by 24.45% due to the feature engineering(transformations and PCA) and feature selection."
   ]
  },
  {
   "cell_type": "markdown",
   "metadata": {},
   "source": [
    "### References"
   ]
  },
  {
   "cell_type": "markdown",
   "metadata": {},
   "source": [
    "- https://www.kdnuggets.com/2023/01/7-smote-variations-oversampling.html\n",
    "- https://www.analyticsvidhya.com/blog/2020/10/overcoming-class-imbalance-using-smote-techniques/#h-dealing-with-imbalanced-data\n",
    "- https://scikit-learn.org/stable/\n",
    "- https://www.youtube.com/@krishnaik06  \n",
    "- Hands on Machine Learning with Scikit-Learn & TensorFlow by Aurélien Géron (O'Reilly). CopyRight 2017 Aurélien Géron"
   ]
  }
 ],
 "metadata": {
  "kernelspec": {
   "display_name": "venv",
   "language": "python",
   "name": "python3"
  },
  "language_info": {
   "codemirror_mode": {
    "name": "ipython",
    "version": 3
   },
   "file_extension": ".py",
   "mimetype": "text/x-python",
   "name": "python",
   "nbconvert_exporter": "python",
   "pygments_lexer": "ipython3",
   "version": "3.12.8"
  }
 },
 "nbformat": 4,
 "nbformat_minor": 2
}
